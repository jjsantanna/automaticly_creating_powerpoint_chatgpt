{
 "cells": [
  {
   "cell_type": "markdown",
   "id": "cac33133",
   "metadata": {},
   "source": [
    "ChatGPT:\n",
    "- create a powerpoint presentation using python. apply a template. create slides based on a list of topics. "
   ]
  },
  {
   "cell_type": "code",
   "execution_count": 7,
   "id": "b875b3d3",
   "metadata": {},
   "outputs": [],
   "source": [
    "# List of topics for slides\n",
    "topics = ['Introduction', 'Methodology', 'Results', 'Conclusion']"
   ]
  },
  {
   "cell_type": "code",
   "execution_count": 8,
   "id": "37ca91e2",
   "metadata": {},
   "outputs": [],
   "source": [
    "from pptx import Presentation\n",
    "from pptx.util import Inches\n",
    "\n",
    "# Create a presentation using a template\n",
    "presentation = Presentation(\"chatgpt_prompt_presentation_template.pptx\")\n",
    "\n",
    "# Loop through the topics and create a slide for each one\n",
    "for topic in topics:\n",
    "    # Add a slide to the presentation\n",
    "    slide = presentation.slides.add_slide(presentation.slide_layouts[1])\n",
    "    \n",
    "    # Add a title to the slide\n",
    "    title = slide.shapes.title\n",
    "    title.text = topic\n",
    "    \n",
    "    # Add some text to the slide\n",
    "#     text = slide.placeholders[1]\n",
    "#     text.text = \"Details about the \" + topic + \" go here.\"\n",
    "\n",
    "# Save the presentation\n",
    "presentation.save('chatgpt_prompt_presentation.pptx')"
   ]
  },
  {
   "cell_type": "code",
   "execution_count": 9,
   "id": "6b30c0bd",
   "metadata": {},
   "outputs": [],
   "source": [
    "!open chatgpt_prompt_presentation.pptx"
   ]
  },
  {
   "cell_type": "code",
   "execution_count": null,
   "id": "67a8ed38",
   "metadata": {},
   "outputs": [],
   "source": []
  }
 ],
 "metadata": {
  "kernelspec": {
   "display_name": "Python 3",
   "language": "python",
   "name": "python3"
  },
  "language_info": {
   "codemirror_mode": {
    "name": "ipython",
    "version": 3
   },
   "file_extension": ".py",
   "mimetype": "text/x-python",
   "name": "python",
   "nbconvert_exporter": "python",
   "pygments_lexer": "ipython3",
   "version": "3.9.15"
  }
 },
 "nbformat": 4,
 "nbformat_minor": 5
}
